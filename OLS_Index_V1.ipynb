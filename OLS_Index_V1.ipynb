{
 "cells": [
  {
   "cell_type": "code",
   "execution_count": 22,
   "metadata": {},
   "outputs": [],
   "source": [
    "import numpy as np\n",
    "import pandas as pd\n",
    "from scipy import stats\n",
    "\n",
    "\n",
    "import statsmodels.tsa.stattools as ts\n",
    "\n",
    "\n",
    "import statsmodels.formula.api as smf\n",
    "import statsmodels.tsa.api as smt\n",
    "import statsmodels.api as sm\n",
    "import scipy.stats as scs\n",
    "import statsmodels.stats as sms\n",
    "\n",
    "import matplotlib.pyplot as plt\n",
    "import matplotlib as mpl\n",
    "\n",
    "\n",
    "\n",
    "# 引入Kalman函数库\n",
    "from pykalman import KalmanFilter\n",
    "\n",
    "# 引入纯随机序列检测，只有是非纯随机序列，才能进行检测\n",
    "from statsmodels.stats.diagnostic import acorr_ljungbox\n",
    "\n",
    "# 引入时序分析模型进行模型匹配\n",
    "from statsmodels.tsa.arima_model import ARMA"
   ]
  },
  {
   "cell_type": "markdown",
   "metadata": {},
   "source": [
    "# 导入函数"
   ]
  },
  {
   "cell_type": "code",
   "execution_count": 23,
   "metadata": {},
   "outputs": [],
   "source": [
    "# S1为自变量，S2为因变量\n",
    "def kalman_beta(S1,S2):\n",
    "    \n",
    "    # 观察矩阵\n",
    "    # 注意：\n",
    "    # 1、观察到的是sec1数据，sec1是自变量x，sec2是因变量y\n",
    "    # 2、需要使用add_constant来模拟alpha\n",
    "    # 3、需要使用np.newaxis来增加维度\n",
    "    obs_mat = sm.add_constant(S1.values, prepend=False)[:, np.newaxis]\n",
    "\n",
    "    kf = KalmanFilter(n_dim_obs=1, n_dim_state=2, # y is 1-dimensional, (alpha, beta) is 2-dimensional\n",
    "                  initial_state_mean=np.ones(2),\n",
    "                  initial_state_covariance=np.ones((2, 2)),\n",
    "                  transition_matrices=np.eye(2),  # 不发生变化，都是单位矩阵\n",
    "                  observation_matrices=obs_mat,   # 观察矩阵\n",
    "                  observation_covariance=10**2,\n",
    "                  transition_covariance=0.01**2 * np.eye(2))\n",
    "    \n",
    "    # 相当于使用sec2来进行训练，模拟出beta、alpha\n",
    "    state_means, state_covs = kf.filter(S2[:, np.newaxis])\n",
    "    \n",
    "    # 第一个参数为beta，第二个参数为alpha\n",
    "    return state_means[-1]\n",
    "\n",
    "\n",
    "\n",
    "# 进行画图，判断AR、MA的延迟阶数\n",
    "\n",
    "def tsplot(y, lags=None, figsize=(15, 10), style='bmh'):\n",
    "    if not isinstance(y, pd.Series):\n",
    "        y = pd.Series(y)\n",
    "    with plt.style.context(style):    \n",
    "        fig = plt.figure(figsize=figsize)\n",
    "        #mpl.rcParams['font.family'] = 'Ubuntu Mono'\n",
    "        layout = (3, 2)\n",
    "        ts_ax = plt.subplot2grid(layout, (0, 0), colspan=2)\n",
    "        acf_ax = plt.subplot2grid(layout, (1, 0))\n",
    "        pacf_ax = plt.subplot2grid(layout, (1, 1))\n",
    "        qq_ax = plt.subplot2grid(layout, (2, 0))\n",
    "        pp_ax = plt.subplot2grid(layout, (2, 1))\n",
    "        \n",
    "        y.plot(ax=ts_ax)\n",
    "        ts_ax.set_title('Time Series Analysis Plots')\n",
    "        smt.graphics.plot_acf(y, lags=lags, ax=acf_ax, alpha=0.05)\n",
    "        smt.graphics.plot_pacf(y, lags=lags, ax=pacf_ax, alpha=0.05)\n",
    "        sm.qqplot(y, line='s', ax=qq_ax)\n",
    "        qq_ax.set_title('QQ Plot')        \n",
    "        scs.probplot(y, sparams=(y.mean(), y.std()), plot=pp_ax)\n",
    "\n",
    "        plt.tight_layout()\n",
    "    return\n",
    "\n",
    "\n",
    "# 函数名：Cadf_test\n",
    "# 输入参数：\n",
    "# 1、res_pd:pandas数组，index为日期，列名为“res”\n",
    "# 输出参数：\n",
    "# P value：返回test的p值，用于后续监测\n",
    "# null hypothesis of the Augmented Dickey-Fuller is that there is a unit root\n",
    "\n",
    "def Cadf_test(res):\n",
    "\n",
    "    # 使用adf计算adf的值\n",
    "    cadf = ts.adfuller(res)\n",
    "    \n",
    "    return cadf[1]\n",
    "\n",
    "\n",
    "# 重要：只有时间序列不是一个白噪声（纯随机序列）的时候，该序列才可做分析\n",
    "# 函数名：test_stochastic\n",
    "# 输入参数：\n",
    "# 1、res_pd:pandas数组，index为日期，列名为“res”\n",
    "# 输出参数：\n",
    "# P value：返回test的p值，用于后续监测\n",
    "# Ljung-Box test for no autocorrelation\n",
    "# 纯随机性检验,p值小于5%,序列为非白噪声\n",
    "# H0: 原本的数据都是纯随机序列\n",
    "# 用于检验某个时间段内的一系列观测值是不是随机的独立观测值\n",
    "# 如果观测值并非彼此独立，一个观测值可能会在 i 个时间单位后与另一个观测值相关，形成一种称为自相关的关系\n",
    "# 自相关可以削减基于时间的预测模型（例如时间序列图）的准确性，并导致数据的错误解释。\n",
    "\n",
    "def test_stochastic(ts):\n",
    "    p_value = acorr_ljungbox(ts)[1] #lags可自定义\n",
    "    return p_value[0]\n",
    "\n",
    "\n",
    "# 生成持仓序列\n",
    "# 输入：\n",
    "# buy_list:[0,....,1,0,...]\n",
    "# sell_list:[0,...-1,0,-1....]\n",
    "# 相互融合后生成持仓序列：[0,0,....1,0,1,....]\n",
    "\n",
    "def position_generate(buy_list,sell_list):\n",
    "    # 生成混合序列\n",
    "    combine_list = np.array(buy_list) + np.array(sell_list)\n",
    "\n",
    "\n",
    "    # 生成状态序列\n",
    "    state_list = []\n",
    "    # 1、初始化第一个状态，如果是0则设置为-1，如果是-1则保持-1，如果是1则保持1\n",
    "    if combine_list[0] == 0:\n",
    "        state_list.append(-1)\n",
    "    else:\n",
    "        state_list.append(combine_list[0])\n",
    "\n",
    "    # 2、开始设置后续的状态，如果是0则设置为前一个状态，如果当前状态与前一个状态不同，则设置为当前状态\n",
    "    for state in combine_list[1:]:\n",
    "        if state == 0:\n",
    "            state_list.append(state_list[-1])\n",
    "        else:\n",
    "            state_list.append(state)\n",
    "\n",
    "    # 进行异或操作\n",
    "    xor_list = []\n",
    "    for i in range(len(state_list)):\n",
    "        if state_list[i] == np.array(pd.Series(state_list).shift(1).fillna(-1))[i]:\n",
    "            xor_list.append(0)\n",
    "        else:\n",
    "            xor_list.append(1)\n",
    "\n",
    "    # 生成新的买入、卖出数组\n",
    "    buy_point_new = np.array(buy_list) * xor_list\n",
    "    sell_point_new = np.array(sell_list) * xor_list\n",
    "\n",
    "    # 生成新的混合数组\n",
    "    combine_list_new = buy_point_new + sell_point_new\n",
    "\n",
    "    return np.cumsum(combine_list_new)"
   ]
  },
  {
   "cell_type": "markdown",
   "metadata": {},
   "source": [
    "# 求出参数"
   ]
  },
  {
   "cell_type": "code",
   "execution_count": 24,
   "metadata": {},
   "outputs": [],
   "source": [
    "end_date = '2018-10-31'\n",
    "ncount = 500\n",
    "\n",
    "# S1为自变量，是观察值\n",
    "# S2为因变量，是操作值\n",
    "\n",
    "\n",
    "sec1 = '000300.XSHG'\n",
    "\n",
    "sec2 = '601939.XSHG'\n",
    "\n",
    "# 观测参数\n",
    "S1 = get_price(sec1, count =  ncount, end_date= end_date, frequency='1d', fields='close',fq = \"pre\")['close']\n",
    "P = S1/S1.shift(1)\n",
    "P = P.fillna(1)\n",
    "\n",
    "# 操作参数\n",
    "S2 = get_price(sec2, count =  ncount, end_date= end_date, frequency='1d', fields='close',fq = \"pre\")['close']\n",
    "Q = S2/S2.shift(1)\n",
    "Q = Q.fillna(1)\n"
   ]
  },
  {
   "cell_type": "code",
   "execution_count": 25,
   "metadata": {},
   "outputs": [
    {
     "name": "stdout",
     "output_type": "stream",
     "text": [
      "0.5222431884670595 0.522233585709004\n"
     ]
    }
   ],
   "source": [
    "# 计算alpha、beta\n",
    "# 按照定义：S1为自变量，S2为因变量\n",
    "beta_kf = kalman_beta(P,Q)\n",
    "beta = kalman_beta(P,Q)[0]\n",
    "alpha = kalman_beta(P,Q)[1]\n",
    "print(beta,alpha)"
   ]
  },
  {
   "cell_type": "code",
   "execution_count": 26,
   "metadata": {},
   "outputs": [],
   "source": [
    "res = Q - np.dot(sm.add_constant(P, prepend=False), beta_kf)"
   ]
  },
  {
   "cell_type": "code",
   "execution_count": 27,
   "metadata": {},
   "outputs": [
    {
     "data": {
      "image/png": "[encoded data removed]",
      "text/plain": [
       "<Figure size 432x288 with 1 Axes>"
      ]
     },
     "metadata": {
      "needs_background": "light"
     },
     "output_type": "display_data"
    }
   ],
   "source": [
    "fig = plt.figure()\n",
    "ax = fig.add_subplot(111)\n",
    "ax.plot(list(res.index),list(res.values))\n",
    "plt.show()"
   ]
  },
  {
   "cell_type": "code",
   "execution_count": 28,
   "metadata": {},
   "outputs": [
    {
     "data": {
      "text/plain": [
       "-0.04350904785720012"
      ]
     },
     "execution_count": 28,
     "metadata": {},
     "output_type": "execute_result"
    }
   ],
   "source": [
    "np.mean(res)"
   ]
  },
  {
   "cell_type": "code",
   "execution_count": 29,
   "metadata": {},
   "outputs": [
    {
     "data": {
      "text/plain": [
       "2.549751456597654e-15"
      ]
     },
     "execution_count": 29,
     "metadata": {},
     "output_type": "execute_result"
    }
   ],
   "source": [
    "Cadf_test(res)"
   ]
  },
  {
   "cell_type": "markdown",
   "metadata": {},
   "source": [
    "H0：there is unit root\n",
    "\n",
    "因为概率低于0.05，所以可以推翻H0\n",
    "\n",
    "结论：不存在Unit Root"
   ]
  },
  {
   "cell_type": "code",
   "execution_count": 30,
   "metadata": {},
   "outputs": [
    {
     "data": {
      "text/plain": [
       "0.1599728082277511"
      ]
     },
     "execution_count": 30,
     "metadata": {},
     "output_type": "execute_result"
    }
   ],
   "source": [
    "test_stochastic(res)"
   ]
  },
  {
   "cell_type": "markdown",
   "metadata": {},
   "source": [
    "H0：原本的数据都是纯随机序列\n",
    "\n",
    "因为概率高于0.05，所以不可以推翻H0\n",
    "\n",
    "结论：序列是纯随机序列"
   ]
  },
  {
   "cell_type": "code",
   "execution_count": 31,
   "metadata": {},
   "outputs": [],
   "source": [
    "std_deviation = np.std(res)\n",
    "mean = np.mean(res)"
   ]
  },
  {
   "cell_type": "code",
   "execution_count": 32,
   "metadata": {},
   "outputs": [
    {
     "data": {
      "image/png": "[encoded data removed]",
      "text/plain": [
       "<Figure size 432x288 with 1 Axes>"
      ]
     },
     "metadata": {
      "needs_background": "light"
     },
     "output_type": "display_data"
    },
    {
     "data": {
      "text/plain": [
       "-0.04350904785720012"
      ]
     },
     "execution_count": 32,
     "metadata": {},
     "output_type": "execute_result"
    }
   ],
   "source": [
    "import matplotlib.dates as mdate \n",
    "\n",
    "fig = plt.figure()\n",
    "ax = fig.add_subplot(111)\n",
    "ax.plot(list(res.index),list(res.values))\n",
    "\n",
    "\n",
    "# 设置时间日期格式\n",
    "ax.xaxis.set_major_formatter(mdate.DateFormatter('%Y-%m'))#设置时间标签显示格式\n",
    "plt.xticks(pd.date_range(list(res.index)[0],list(res.index)[-1],freq='6M'))  \n",
    "\n",
    "ax.axhline(mean+std_deviation)\n",
    "ax.axhline(mean-std_deviation)\n",
    "ax.axhline(mean)\n",
    "\n",
    "plt.show()\n",
    "\n",
    "mean"
   ]
  },
  {
   "cell_type": "markdown",
   "metadata": {},
   "source": [
    "# 开始验证"
   ]
  },
  {
   "cell_type": "code",
   "execution_count": 33,
   "metadata": {},
   "outputs": [],
   "source": [
    "start_date = '2018-10-1'\n",
    "end_date = '2019-2-28'\n",
    "\n",
    "# 指数,P\n",
    "S1_validation = get_price(sec1, start_date =  start_date, end_date= end_date, frequency='1d', fields='close',fq = \"pre\")['close']\n",
    "P_validation = S1_validation/S1_validation.shift(1)\n",
    "P_validation = P_validation.fillna(1)\n",
    "\n",
    "\n",
    "# 个股,Q\n",
    "S2_validation = get_price(sec2, start_date =  start_date, end_date= end_date, frequency='1d', fields='close',fq = \"pre\")['close']\n",
    "Q_validation = S2_validation/S2_validation.shift(1)\n",
    "Q_validation = Q_validation.fillna(1)"
   ]
  },
  {
   "cell_type": "code",
   "execution_count": 34,
   "metadata": {},
   "outputs": [],
   "source": [
    "Q_infer = beta*P_validation + alpha\n",
    "\n",
    "gap = Q_validation - Q_infer \n"
   ]
  },
  {
   "cell_type": "code",
   "execution_count": 35,
   "metadata": {},
   "outputs": [
    {
     "data": {
      "image/png": "[encoded data removed]",
      "text/plain": [
       "<Figure size 432x288 with 1 Axes>"
      ]
     },
     "metadata": {
      "needs_background": "light"
     },
     "output_type": "display_data"
    }
   ],
   "source": [
    "import matplotlib.dates as mdate \n",
    "\n",
    "fig = plt.figure()\n",
    "ax = fig.add_subplot(111)\n",
    "ax.plot(list(gap.index),list(gap.values))\n",
    "\n",
    "\n",
    "# 设置时间日期格式\n",
    "ax.xaxis.set_major_formatter(mdate.DateFormatter('%Y-%m'))#设置时间标签显示格式\n",
    "plt.xticks(pd.date_range(list(gap.index)[0],list(gap.index)[-1],freq='6M'))  \n",
    "\n",
    "ax.axhline(mean+std_deviation)\n",
    "ax.axhline(mean-std_deviation)\n",
    "ax.axhline(mean)\n",
    "\n",
    "\n",
    "\n",
    "# 添加交易点\n",
    "\n",
    "Date_plot = gap.index\n",
    "Data_plot = gap.values\n",
    "\n",
    "pos_buy = (gap < (mean-std_deviation) )\n",
    "pos_sell = (gap > (mean + std_deviation) )\n",
    "\n",
    "plt.plot_date(Date_plot[pos_buy],Data_plot[pos_buy],'o')\n",
    "plt.plot_date(Date_plot[pos_sell],Data_plot[pos_sell],'o') \n",
    "\n",
    "\n",
    "plt.show()\n"
   ]
  },
  {
   "cell_type": "markdown",
   "metadata": {},
   "source": [
    "# 策略推导\n",
    "\n",
    "gap = Q_validation - Q_infer \n",
    "\n",
    "说明：\n",
    "1. Q_infer是观测到推导值，Q_validation是实际值\n",
    "2. 两者之差gap实际上是推导值与实际值之间的差距\n",
    "3. 运算为实际值减去推导值，如果小于下限 => 推导值高，实际值低 => gap值要回归到0 => 要么推导值变小，要么实际值变大\n",
    "\n",
    "结论：\n",
    "\n",
    "所以在gap小于下限的情况下：\n",
    "- 实际值最终会变大\n",
    "- 推导值变小，推导值变小意味着alpha、beta不变的情况下，P变小，P变小意味着指数的收益率降低（做空的时机）"
   ]
  },
  {
   "cell_type": "code",
   "execution_count": 18,
   "metadata": {},
   "outputs": [],
   "source": [
    "# 序列处理代码实现\n",
    "# buy_point_pd = gap < mean - 1*std_deviation\n",
    "# sell_point_pd = gap > mean + 1*std_deviation\n",
    "\n",
    "sell_point_pd = gap < mean - 0.2*std_deviation\n",
    "buy_point_pd = gap > mean + 0.2*std_deviation\n",
    "\n",
    "buy_point_list = [int(d) for d in buy_point_pd ]\n",
    "sell_point_list = [-int(d) for d in sell_point_pd ]\n",
    "\n"
   ]
  },
  {
   "cell_type": "code",
   "execution_count": 19,
   "metadata": {},
   "outputs": [],
   "source": [
    "# 画出推测标的的收益率曲线\n",
    "S1_Yield = np.cumsum((np.log(S1_validation) - np.log(S1_validation.shift(1)) )*position_generate(buy_point_list,sell_point_list))\n",
    "\n",
    "S2_Yield = np.cumsum(((np.log(S2_validation) - np.log(S2_validation.shift(1)) )*position_generate(buy_point_list,sell_point_list)))\n"
   ]
  },
  {
   "cell_type": "code",
   "execution_count": 20,
   "metadata": {},
   "outputs": [
    {
     "data": {
      "text/plain": [
       "<matplotlib.legend.Legend at 0x7f2fa5ff8fd0>"
      ]
     },
     "execution_count": 20,
     "metadata": {},
     "output_type": "execute_result"
    },
    {
     "data": {
      "image/png": "[encoded data removed]",
      "text/plain": [
       "<Figure size 432x288 with 1 Axes>"
      ]
     },
     "metadata": {
      "needs_background": "light"
     },
     "output_type": "display_data"
    }
   ],
   "source": [
    "import matplotlib.dates as mdate \n",
    "\n",
    "fig = plt.figure()\n",
    "ax = fig.add_subplot(111)\n",
    "ax.plot(S1_Yield.index,S1_Yield.values,label='index')\n",
    "ax.plot(S2_Yield.index,S2_Yield.values,label='stock')\n",
    "\n",
    "plt.legend()"
   ]
  },
  {
   "cell_type": "code",
   "execution_count": null,
   "metadata": {},
   "outputs": [],
   "source": []
  },
  {
   "cell_type": "code",
   "execution_count": null,
   "metadata": {},
   "outputs": [],
   "source": []
  }
 ],
 "metadata": {
  "kernelspec": {
   "display_name": "Python 3",
   "language": "python",
   "name": "python3"
  },
  "language_info": {
   "codemirror_mode": {
    "name": "ipython",
    "version": 3
   },
   "file_extension": ".py",
   "mimetype": "text/x-python",
   "name": "python",
   "nbconvert_exporter": "python",
   "pygments_lexer": "ipython3",
   "version": "3.6.7"
  }
 },
 "nbformat": 4,
 "nbformat_minor": 2
}
